{
 "cells": [
  {
   "cell_type": "code",
   "execution_count": 8,
   "id": "e8340c7f",
   "metadata": {},
   "outputs": [
    {
     "name": "stdout",
     "output_type": "stream",
     "text": [
      "Hello Zainab!\n"
     ]
    }
   ],
   "source": [
    "print(\"Hello Zainab!\")\n"
   ]
  },
  {
   "cell_type": "markdown",
   "id": "53e00ef0",
   "metadata": {},
   "source": [
    "10+15"
   ]
  },
  {
   "cell_type": "code",
   "execution_count": 6,
   "id": "54ebd5df",
   "metadata": {},
   "outputs": [
    {
     "data": {
      "text/plain": [
       "200"
      ]
     },
     "execution_count": 6,
     "metadata": {},
     "output_type": "execute_result"
    }
   ],
   "source": [
    "10*20\n"
   ]
  },
  {
   "cell_type": "code",
   "execution_count": 7,
   "id": "1c8cb7f7",
   "metadata": {},
   "outputs": [
    {
     "data": {
      "text/plain": [
       "2.0"
      ]
     },
     "execution_count": 7,
     "metadata": {},
     "output_type": "execute_result"
    }
   ],
   "source": [
    "10/5"
   ]
  },
  {
   "cell_type": "markdown",
   "id": "c5b94e44",
   "metadata": {},
   "source": []
  },
  {
   "cell_type": "code",
   "execution_count": 9,
   "id": "dd56fc5e",
   "metadata": {},
   "outputs": [
    {
     "ename": "SyntaxError",
     "evalue": "invalid syntax (2648455392.py, line 1)",
     "output_type": "error",
     "traceback": [
      "\u001b[1;36m  Cell \u001b[1;32mIn[9], line 1\u001b[1;36m\u001b[0m\n\u001b[1;33m    to execute the code- ctrl+enter, shift+enter\u001b[0m\n\u001b[1;37m       ^\u001b[0m\n\u001b[1;31mSyntaxError\u001b[0m\u001b[1;31m:\u001b[0m invalid syntax\n"
     ]
    }
   ],
   "source": [
    "to execute the code- ctrl+enter, shift+enter\n",
    "add the cell (above the current cell)- esc+A\n",
    "add to th cell (below the current cell)- esc+B\n",
    "delete the cell- esc+D+D\n"
   ]
  },
  {
   "cell_type": "code",
   "execution_count": null,
   "id": "9cc033db",
   "metadata": {},
   "outputs": [],
   "source": []
  }
 ],
 "metadata": {
  "kernelspec": {
   "display_name": "Python 3 (ipykernel)",
   "language": "python",
   "name": "python3"
  },
  "language_info": {
   "codemirror_mode": {
    "name": "ipython",
    "version": 3
   },
   "file_extension": ".py",
   "mimetype": "text/x-python",
   "name": "python",
   "nbconvert_exporter": "python",
   "pygments_lexer": "ipython3",
   "version": "3.11.5"
  }
 },
 "nbformat": 4,
 "nbformat_minor": 5
}
